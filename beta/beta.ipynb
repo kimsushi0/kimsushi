{
 "cells": [
  {
   "cell_type": "code",
   "execution_count": null,
   "id": "fb548535",
   "metadata": {},
   "outputs": [],
   "source": [
    "#삼성전자 베타 측정 예제\n",
    "# naverfinanace에서 주가 데이터 가져옴.\n",
    "# 데이터 시리즈를 합쳐서 데이터 프레임으로 만든 후 분석."
   ]
  },
  {
   "cell_type": "code",
   "execution_count": 1,
   "id": "3fb64489",
   "metadata": {},
   "outputs": [
    {
     "name": "stdout",
     "output_type": "stream",
     "text": [
      "{'005930': Date\n",
      "2010-01-04    16180\n",
      "2010-01-05    16440\n",
      "2010-01-06    16820\n",
      "2010-01-07    16260\n",
      "2010-01-08    16420\n",
      "              ...  \n",
      "2021-12-24    80500\n",
      "2021-12-27    80200\n",
      "2021-12-28    80300\n",
      "2021-12-29    78800\n",
      "2021-12-30    78300\n",
      "Name: Close, Length: 2962, dtype: object, 'KOSPI': Date\n",
      "2010-01-04    1696.14\n",
      "2010-01-05    1690.62\n",
      "2010-01-06    1705.32\n",
      "2010-01-07    1683.45\n",
      "2010-01-08    1695.26\n",
      "               ...   \n",
      "2021-12-24    3012.43\n",
      "2021-12-27    2999.55\n",
      "2021-12-28    3020.24\n",
      "2021-12-29    2993.29\n",
      "2021-12-30    2977.65\n",
      "Name: Close, Length: 2962, dtype: object}\n"
     ]
    }
   ],
   "source": [
    "import pandas_datareader.data as web\n",
    "import pandas as pd\n",
    "import datetime as dt\n",
    "\n",
    "codes = ['005930', 'KOSPI']\n",
    "df = {}\n",
    "\n",
    "for code in codes:\n",
    "    df[code] = web.DataReader(code, 'naver', start='2010-01-01', end='2021-12-31')['Close']\n",
    "\n",
    "df = pd.DataFrame(df)\n",
    "for column in df.columns:\n",
    "    df[column] = df[column].astype(float)\n",
    "df = df.pct_change().dropna()\n",
    "df"
   ]
  },
  {
   "cell_type": "code",
   "execution_count": 12,
   "id": "3700c976",
   "metadata": {},
   "outputs": [
    {
     "data": {
      "text/html": [
       "<table class=\"simpletable\">\n",
       "<caption>OLS Regression Results</caption>\n",
       "<tr>\n",
       "  <th>Dep. Variable:</th>         <td>005930</td>      <th>  R-squared:         </th>  <td>   0.496</td> \n",
       "</tr>\n",
       "<tr>\n",
       "  <th>Model:</th>                   <td>OLS</td>       <th>  Adj. R-squared:    </th>  <td>   0.496</td> \n",
       "</tr>\n",
       "<tr>\n",
       "  <th>Method:</th>             <td>Least Squares</td>  <th>  F-statistic:       </th>  <td>   2914.</td> \n",
       "</tr>\n",
       "<tr>\n",
       "  <th>Date:</th>             <td>Wed, 21 Jun 2023</td> <th>  Prob (F-statistic):</th>   <td>  0.00</td>  \n",
       "</tr>\n",
       "<tr>\n",
       "  <th>Time:</th>                 <td>23:18:56</td>     <th>  Log-Likelihood:    </th>  <td>  8867.0</td> \n",
       "</tr>\n",
       "<tr>\n",
       "  <th>No. Observations:</th>      <td>  2961</td>      <th>  AIC:               </th> <td>-1.773e+04</td>\n",
       "</tr>\n",
       "<tr>\n",
       "  <th>Df Residuals:</th>          <td>  2959</td>      <th>  BIC:               </th> <td>-1.772e+04</td>\n",
       "</tr>\n",
       "<tr>\n",
       "  <th>Df Model:</th>              <td>     1</td>      <th>                     </th>      <td> </td>    \n",
       "</tr>\n",
       "<tr>\n",
       "  <th>Covariance Type:</th>      <td>nonrobust</td>    <th>                     </th>      <td> </td>    \n",
       "</tr>\n",
       "</table>\n",
       "<table class=\"simpletable\">\n",
       "<tr>\n",
       "      <td></td>         <th>coef</th>     <th>std err</th>      <th>t</th>      <th>P>|t|</th>  <th>[0.025</th>    <th>0.975]</th>  \n",
       "</tr>\n",
       "<tr>\n",
       "  <th>KOSPI</th>     <td>    1.1613</td> <td>    0.022</td> <td>   53.981</td> <td> 0.000</td> <td>    1.119</td> <td>    1.203</td>\n",
       "</tr>\n",
       "<tr>\n",
       "  <th>intercept</th> <td>    0.0004</td> <td>    0.000</td> <td>    1.773</td> <td> 0.076</td> <td>-4.18e-05</td> <td>    0.001</td>\n",
       "</tr>\n",
       "</table>\n",
       "<table class=\"simpletable\">\n",
       "<tr>\n",
       "  <th>Omnibus:</th>       <td>199.349</td> <th>  Durbin-Watson:     </th> <td>   1.829</td> \n",
       "</tr>\n",
       "<tr>\n",
       "  <th>Prob(Omnibus):</th> <td> 0.000</td>  <th>  Jarque-Bera (JB):  </th> <td> 666.949</td> \n",
       "</tr>\n",
       "<tr>\n",
       "  <th>Skew:</th>          <td> 0.288</td>  <th>  Prob(JB):          </th> <td>1.49e-145</td>\n",
       "</tr>\n",
       "<tr>\n",
       "  <th>Kurtosis:</th>      <td> 5.253</td>  <th>  Cond. No.          </th> <td>    96.6</td> \n",
       "</tr>\n",
       "</table><br/><br/>Notes:<br/>[1] Standard Errors assume that the covariance matrix of the errors is correctly specified."
      ],
      "text/plain": [
       "<class 'statsmodels.iolib.summary.Summary'>\n",
       "\"\"\"\n",
       "                            OLS Regression Results                            \n",
       "==============================================================================\n",
       "Dep. Variable:                 005930   R-squared:                       0.496\n",
       "Model:                            OLS   Adj. R-squared:                  0.496\n",
       "Method:                 Least Squares   F-statistic:                     2914.\n",
       "Date:                Wed, 21 Jun 2023   Prob (F-statistic):               0.00\n",
       "Time:                        23:18:56   Log-Likelihood:                 8867.0\n",
       "No. Observations:                2961   AIC:                        -1.773e+04\n",
       "Df Residuals:                    2959   BIC:                        -1.772e+04\n",
       "Df Model:                           1                                         \n",
       "Covariance Type:            nonrobust                                         \n",
       "==============================================================================\n",
       "                 coef    std err          t      P>|t|      [0.025      0.975]\n",
       "------------------------------------------------------------------------------\n",
       "KOSPI          1.1613      0.022     53.981      0.000       1.119       1.203\n",
       "intercept      0.0004      0.000      1.773      0.076   -4.18e-05       0.001\n",
       "==============================================================================\n",
       "Omnibus:                      199.349   Durbin-Watson:                   1.829\n",
       "Prob(Omnibus):                  0.000   Jarque-Bera (JB):              666.949\n",
       "Skew:                           0.288   Prob(JB):                    1.49e-145\n",
       "Kurtosis:                       5.253   Cond. No.                         96.6\n",
       "==============================================================================\n",
       "\n",
       "Notes:\n",
       "[1] Standard Errors assume that the covariance matrix of the errors is correctly specified.\n",
       "\"\"\""
      ]
     },
     "execution_count": 12,
     "metadata": {},
     "output_type": "execute_result"
    }
   ],
   "source": [
    "import statsmodels.api as sm\n",
    "df['intercept'] = 1 \n",
    "reg =sm.OLS(df[['005930']], df[['KOSPI', 'intercept']]).fit()\n",
    "reg.summary()"
   ]
  },
  {
   "cell_type": "code",
   "execution_count": null,
   "id": "127e9c37",
   "metadata": {},
   "outputs": [],
   "source": [
    "# 삼성전자 수익률 = KOSPI 수익률 X 1.1613 + 0.00004(Alpha)"
   ]
  }
 ],
 "metadata": {
  "kernelspec": {
   "display_name": "Python 3 (ipykernel)",
   "language": "python",
   "name": "python3"
  },
  "language_info": {
   "codemirror_mode": {
    "name": "ipython",
    "version": 3
   },
   "file_extension": ".py",
   "mimetype": "text/x-python",
   "name": "python",
   "nbconvert_exporter": "python",
   "pygments_lexer": "ipython3",
   "version": "3.7.0"
  }
 },
 "nbformat": 4,
 "nbformat_minor": 5
}
